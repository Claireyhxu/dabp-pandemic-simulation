{
 "cells": [
  {
   "cell_type": "markdown",
   "metadata": {},
   "source": [
    "### **Synthesized Data Generation for Self-supervised Learning**\n",
    "\n",
    "* **Date:** April 2022\n",
    "* **Team Member:**\n"
   ]
  },
  {
   "cell_type": "markdown",
   "metadata": {},
   "source": [
    "#### **1 SIR Model**"
   ]
  },
  {
   "cell_type": "markdown",
   "metadata": {},
   "source": [
    "Import libraries"
   ]
  },
  {
   "cell_type": "code",
   "execution_count": 1,
   "metadata": {},
   "outputs": [],
   "source": [
    "import numpy as np\n",
    "from scipy.integrate import odeint\n",
    "import matplotlib.pyplot as plt\n",
    "from tqdm import tqdm\n"
   ]
  },
  {
   "cell_type": "markdown",
   "metadata": {},
   "source": [
    "Setting up parameters"
   ]
  },
  {
   "cell_type": "code",
   "execution_count": 257,
   "metadata": {},
   "outputs": [],
   "source": [
    "### ------------------- Parameters to Vary ------------------- ###\n",
    "\n",
    "# lambda: number of people that a susceptible person interacts with per time step\n",
    "# p: probability of getting infected if a susceptible person interacts with an infectious person\n",
    "# gamma: recovery rate (recovery probability within one time step)\n",
    "lam, p, gamma = 3, 0.05, 1./14 # set lam = 2 vs 20, p = 0.3, gamma = 1/14\n",
    "\n",
    "# probability of getting infected every time step\n",
    "#beta = 1 - pow(1-p,lam)\n",
    "beta = min(1, lam * p) # beta <= 1 by definition\n",
    "\n",
    "\n",
    "### ------------------- Fixed Parameters ------------------- ###\n",
    "\n",
    "# Total population.\n",
    "N_total = 300000000\n",
    "\n",
    "# Some vaccinated people are immune\n",
    "N = N_total\n",
    "\n",
    "# A grid of time points (in days) for the detecting period\n",
    "t_set = np.linspace(0, 365, 366)\n",
    "\n",
    "# Initial number of infected and immune individuals, I0 and R0.\n",
    "I0, R0 = 10, 0\n",
    "\n",
    "# Everyone else, S0, is susceptible to infection initially.\n",
    "S0 = N - I0 - R0"
   ]
  },
  {
   "cell_type": "markdown",
   "metadata": {},
   "source": [
    "Model Engine"
   ]
  },
  {
   "cell_type": "code",
   "execution_count": 258,
   "metadata": {},
   "outputs": [],
   "source": [
    "# The SIR model differential equations.\n",
    "def deriv(y, t, N, beta, gamma):\n",
    "    S, I, R = y\n",
    "    dSdt = -beta * S * I / N\n",
    "    dIdt = beta * S * I / N - gamma * I\n",
    "    dRdt = gamma * I\n",
    "    return dSdt, dIdt, dRdt\n",
    "\n",
    "# The SIR model differential equations.\n",
    "def deriv_dynamic(y, t, N, beta, gamma):\n",
    "    S, I, R = y\n",
    "    dSdt = -beta(t) * S * I / N\n",
    "    dIdt = beta(t) * S * I / N - gamma * I\n",
    "    dRdt = gamma * I\n",
    "    return dSdt, dIdt, dRdt\n"
   ]
  },
  {
   "cell_type": "markdown",
   "metadata": {},
   "source": [
    "Define dynamic parameters"
   ]
  },
  {
   "cell_type": "code",
   "execution_count": 294,
   "metadata": {},
   "outputs": [
    {
     "data": {
      "text/plain": [
       "[<matplotlib.lines.Line2D at 0x12701777dc8>]"
      ]
     },
     "execution_count": 294,
     "metadata": {},
     "output_type": "execute_result"
    },
    {
     "data": {
      "image/png": "[encoded data removed]",
      "text/plain": [
       "<Figure size 432x288 with 1 Axes>"
      ]
     },
     "metadata": {
      "needs_background": "light"
     },
     "output_type": "display_data"
    }
   ],
   "source": [
    "### ------------------ Generate Random R_0 ------------------\n",
    "\n",
    "x = np.linspace(0, 365, 366)\n",
    "\n",
    "def f(x):\n",
    "    return (np.sin((np.random.random()/20) * x) + np.random.normal(scale=0.01, size=len(x)) + np.cos((np.random.random()/20) * x) + np.random.normal(scale=0.01, size=len(x)) + 2)\n",
    "\n",
    "R_0_random = f(x)\n",
    "plt.plot(x, R_0_random)"
   ]
  },
  {
   "cell_type": "code",
   "execution_count": 254,
   "metadata": {},
   "outputs": [
    {
     "data": {
      "text/plain": [
       "(366,)"
      ]
     },
     "execution_count": 254,
     "metadata": {},
     "output_type": "execute_result"
    }
   ],
   "source": [
    "R_0_random.shape"
   ]
  },
  {
   "cell_type": "code",
   "execution_count": 260,
   "metadata": {},
   "outputs": [],
   "source": [
    "### ------------------ Piece-wise R_0 and beta ------------------ ###\n",
    "\n",
    "# L_shutdown = 50 # The day that R0 changed\n",
    "\n",
    "# L_relax = 125 # The day that restrictions are relaxed\n",
    "\n",
    "# def R_0_dynamic(t):\n",
    "#     value = 1.0\n",
    "#     if t < L_shutdown:\n",
    "#         value = 5.0\n",
    "#     elif t < L_relax:\n",
    "#         value = 0.9\n",
    "#     else:\n",
    "#         value = 1.5\n",
    "#     return value\n",
    "\n",
    "# def beta_dynamic(t):\n",
    "#     return R_0_dynamic(t) * gamma\n",
    "\n",
    "### ------------------ Logistic R_0 and beta ------------------ ###\n",
    "# R_0_start, k, x0, R_0_end = 5.0, 0.5, 50, 0.9\n",
    "\n",
    "# def logistic_R_0(t):\n",
    "#     return (R_0_start-R_0_end) / (1 + np.exp(-k*(-t+x0))) + R_0_end\n",
    "\n",
    "# def logistic_beta(t):\n",
    "#     return logistic_R_0(t) * gamma\n",
    "\n",
    "### ------------------ Random R_0 and beta ------------------ ###\n",
    "\n",
    "def random_R_0(t):\n",
    "    return R_0_random[int(t)]\n",
    "\n",
    "def random_beta(t):\n",
    "    return random_R_0(t) * gamma\n"
   ]
  },
  {
   "cell_type": "markdown",
   "metadata": {},
   "source": [
    "Generate Trajectories for S(t), I(t), R(t)"
   ]
  },
  {
   "cell_type": "code",
   "execution_count": 4,
   "metadata": {
    "scrolled": true
   },
   "outputs": [],
   "source": [
    "### ----------------- Static Parameters ----------------- ###\n",
    "\n",
    "# Initial conditions vector\n",
    "y0 = S0, I0, R0\n",
    "# Integrate the SIR equations over the time grid, t.\n",
    "ret = odeint(deriv, y0, t_set, args=(N, beta, gamma))\n",
    "S, I, R = ret.T\n",
    "\n",
    "# Here outputs S,I,R are trajectories over the simulation time horizon, \n",
    "# i.e., S is a vector of the numbers of susceptible people at each time step, check by printing it out:\n",
    "#print S"
   ]
  },
  {
   "cell_type": "code",
   "execution_count": 292,
   "metadata": {},
   "outputs": [],
   "source": [
    "### ----------------- Dynamic Parameters ----------------- ###\n",
    "\n",
    "# Initial conditions vector\n",
    "y0 = S0, I0, R0\n",
    "# Integrate the SIR equations over the time grid, t.\n",
    "ret = odeint(deriv_dynamic, y0, t_set, args=(N, random_beta, gamma))\n",
    "S, I, R = ret.T"
   ]
  },
  {
   "cell_type": "markdown",
   "metadata": {},
   "source": [
    "Plot Trajectories for S(t), I(t), R(t)"
   ]
  },
  {
   "cell_type": "code",
   "execution_count": 293,
   "metadata": {
    "scrolled": true
   },
   "outputs": [
    {
     "name": "stderr",
     "output_type": "stream",
     "text": [
      "E:\\ProgramData\\Anaconda3\\envs\\decision-analytics\\lib\\site-packages\\ipykernel_launcher.py:12: MatplotlibDeprecationWarning: The 'b' parameter of grid() has been renamed 'visible' since Matplotlib 3.5; support for the old name will be dropped two minor releases later.\n",
      "  if sys.path[0] == '':\n"
     ]
    },
    {
     "data": {
      "image/png": "[encoded data removed]",
      "text/plain": [
       "<Figure size 432x288 with 1 Axes>"
      ]
     },
     "metadata": {},
     "output_type": "display_data"
    }
   ],
   "source": [
    "# Plot the data on three separate curves for S(t), I(t) and R(t)\n",
    "fig = plt.figure(facecolor='w')\n",
    "ax = fig.add_subplot(111, facecolor='#dddddd', axisbelow=True)\n",
    "ax.plot(t_set, S/N_total, 'b', alpha=0.5, lw=2, label='Susceptible')\n",
    "ax.plot(t_set, I/N_total, 'r', alpha=0.5, lw=2, label='Infected')\n",
    "ax.plot(t_set, R/N_total, 'g', alpha=0.5, lw=2, label='Recovered/Removed')\n",
    "ax.set_xlabel('Time /days')\n",
    "ax.set_ylabel('Percentage of Population')\n",
    "ax.set_ylim(0,1.2)\n",
    "ax.yaxis.set_tick_params(length=0)\n",
    "ax.xaxis.set_tick_params(length=0)\n",
    "ax.grid(b=True, which='major', c='w', lw=2, ls='-')\n",
    "legend = ax.legend()\n",
    "legend.get_frame().set_alpha(0.5)\n",
    "for spine in ('top', 'right', 'bottom', 'left'):\n",
    "    ax.spines[spine].set_visible(False)\n",
    "plt.show()"
   ]
  },
  {
   "cell_type": "code",
   "execution_count": 265,
   "metadata": {},
   "outputs": [
    {
     "data": {
      "text/plain": [
       "array([[2.99999990e+08, 1.00000000e+01, 0.00000000e+00],\n",
       "       [2.99999985e+08, 1.43162625e+01, 8.59239058e-01],\n",
       "       [2.99999977e+08, 2.05877169e+01, 2.09227754e+00],\n",
       "       ...,\n",
       "       [7.12645490e+05, 3.60329234e-02, 2.99287354e+08],\n",
       "       [7.12645490e+05, 3.35672603e-02, 2.99287354e+08],\n",
       "       [7.12645490e+05, 3.12693800e-02, 2.99287354e+08]])"
      ]
     },
     "execution_count": 265,
     "metadata": {},
     "output_type": "execute_result"
    }
   ],
   "source": [
    "np.concatenate((S.reshape(-1, 1), I.reshape(-1, 1), R.reshape(-1, 1)), axis=1)"
   ]
  },
  {
   "cell_type": "code",
   "execution_count": 21,
   "metadata": {},
   "outputs": [
    {
     "name": "stderr",
     "output_type": "stream",
     "text": [
      "E:\\ProgramData\\Anaconda3\\envs\\decision-analytics\\lib\\site-packages\\ipykernel_launcher.py:64: MatplotlibDeprecationWarning: The 'b' parameter of grid() has been renamed 'visible' since Matplotlib 3.5; support for the old name will be dropped two minor releases later.\n"
     ]
    },
    {
     "data": {
      "image/png": "[encoded data removed]",
      "text/plain": [
       "<Figure size 432x288 with 1 Axes>"
      ]
     },
     "metadata": {
      "needs_background": "light"
     },
     "output_type": "display_data"
    },
    {
     "data": {
      "image/png": "[encoded data removed]",
      "text/plain": [
       "<Figure size 432x288 with 1 Axes>"
      ]
     },
     "metadata": {},
     "output_type": "display_data"
    }
   ],
   "source": [
    "### ------------------- Parameters to Vary ------------------- ###\n",
    "\n",
    "# lambda: number of people that a susceptible person interacts with per time step\n",
    "# p: probability of getting infected if a susceptible person interacts with an infectious person\n",
    "# gamma: recovery rate (recovery probability within one time step)\n",
    "gamma = 1./14 # set lam = 2 vs 20, p = 0.3, gamma = 1/14\n",
    "\n",
    "### ------------------- Fixed Parameters ------------------- ###\n",
    "\n",
    "# Total population.\n",
    "N = 300000000\n",
    "\n",
    "# A grid of time points (in days) for the detecting period\n",
    "t_set = np.linspace(0, 365, 366)\n",
    "\n",
    "# Initial number of infected and immune individuals, I0 and R0.\n",
    "I0, R0 = 10, 0\n",
    "\n",
    "# Everyone else, S0, is susceptible to infection initially.\n",
    "S0 = N - I0 - R0\n",
    "\n",
    "# The SIR model differential equations.\n",
    "def deriv_dynamic(y, t, N, beta, gamma):\n",
    "    S, I, R = y\n",
    "    dSdt = -beta(t) * S * I / N\n",
    "    dIdt = beta(t) * S * I / N - gamma * I\n",
    "    dRdt = gamma * I\n",
    "    return dSdt, dIdt, dRdt\n",
    "\n",
    "x = np.linspace(0, 367, 368)\n",
    "\n",
    "def f(x):\n",
    "    return (np.sin((np.random.random()/20) * x) + np.random.normal(scale=0.1, size=len(x)) + np.cos((np.random.random()/20) * x) + np.random.normal(scale=0.1, size=len(x)) + 2)\n",
    "\n",
    "R_0_random = f(x)\n",
    "plt.plot(x, R_0_random)\n",
    "\n",
    "def random_R_0(t):\n",
    "    return R_0_random[int(t)]\n",
    "\n",
    "def random_beta(t):\n",
    "    return random_R_0(t) * gamma\n",
    "\n",
    "\n",
    "### ----------------- Dynamic Parameters ----------------- ###\n",
    "\n",
    "# Initial conditions vector\n",
    "y0 = S0, I0, R0\n",
    "# Integrate the SIR equations over the time grid, t.\n",
    "ret = odeint(deriv_dynamic, y0, t_set, args=(N, random_beta, gamma))\n",
    "S, I, R = ret.T\n",
    "\n",
    "# Plot the data on three separate curves for S(t), I(t) and R(t)\n",
    "fig = plt.figure(facecolor='w')\n",
    "ax = fig.add_subplot(111, facecolor='#dddddd', axisbelow=True)\n",
    "ax.plot(t_set, S/N, 'b', alpha=0.5, lw=2, label='Susceptible')\n",
    "ax.plot(t_set, I/N, 'r', alpha=0.5, lw=2, label='Infected')\n",
    "ax.plot(t_set, R/N, 'g', alpha=0.5, lw=2, label='Recovered/Removed')\n",
    "ax.set_xlabel('Time /days')\n",
    "ax.set_ylabel('Percentage of Population')\n",
    "ax.set_ylim(0,1.2)\n",
    "ax.yaxis.set_tick_params(length=0)\n",
    "ax.xaxis.set_tick_params(length=0)\n",
    "ax.grid(b=True, which='major', c='w', lw=2, ls='-')\n",
    "legend = ax.legend()\n",
    "legend.get_frame().set_alpha(0.5)\n",
    "for spine in ('top', 'right', 'bottom', 'left'):\n",
    "    ax.spines[spine].set_visible(False)\n",
    "plt.show()"
   ]
  },
  {
   "cell_type": "code",
   "execution_count": 2,
   "metadata": {},
   "outputs": [],
   "source": [
    "def f(x):\n",
    "    return (np.sin((np.random.random()/20) * x) + np.random.normal(scale=0.1, size=len(x)) + \n",
    "            np.cos((np.random.random()/20) * x) + np.random.normal(scale=0.1, size=len(x)) + 2)\n",
    "\n",
    "def deriv_dynamic(y, t, N, beta, gamma):\n",
    "            S, I, R = y\n",
    "            dSdt = -beta(t) * S * I / N\n",
    "            dIdt = beta(t) * S * I / N - gamma * I\n",
    "            dRdt = gamma * I\n",
    "            return dSdt, dIdt, dRdt\n",
    "\n",
    "def generate_data(n_samples=10):\n",
    "    \n",
    "    data = []\n",
    "    labels = []\n",
    "    \n",
    "    ### ------------------- Parameters to Vary ------------------- ###\n",
    "\n",
    "    # lambda: number of people that a susceptible person interacts with per time step\n",
    "    # p: probability of getting infected if a susceptible person interacts with an infectious person\n",
    "    # gamma: recovery rate (recovery probability within one time step)\n",
    "    gamma = 1./14 # set lam = 2 vs 20, p = 0.3, gamma = 1/14\n",
    "\n",
    "    ### ------------------- Fixed Parameters ------------------- ###\n",
    "\n",
    "    # Total population.\n",
    "    N = 300000000\n",
    "\n",
    "    # A grid of time points (in days) for the detecting period\n",
    "    t_set = np.linspace(0, 365, 366)\n",
    "\n",
    "    # Initial number of infected and immune individuals, I0 and R0.\n",
    "    I0, R0 = 10, 0\n",
    "\n",
    "    # Everyone else, S0, is susceptible to infection initially.\n",
    "    S0 = N - I0 - R0\n",
    "    \n",
    "    for i in tqdm(range(n_samples), total=n_samples):\n",
    "        \n",
    "        x = np.linspace(0, 367, 368)\n",
    "\n",
    "        R_0_random = f(x)\n",
    "        # plt.plot(x, R_0_random)\n",
    "\n",
    "        def random_R_0(t):\n",
    "            return R_0_random[int(t)]\n",
    "\n",
    "        def random_beta(t):\n",
    "            return random_R_0(t) * gamma\n",
    "\n",
    "        # Initial conditions vector\n",
    "        y0 = S0, I0, R0\n",
    "        # Integrate the SIR equations over the time grid, t.\n",
    "        ret = odeint(deriv_dynamic, y0, t_set, args=(N, random_beta, gamma))\n",
    "        S, I, R = ret.T\n",
    "        \n",
    "        data.append(np.concatenate((S.reshape(-1, 1), I.reshape(-1, 1), R.reshape(-1, 1)), axis=1))\n",
    "        labels.append(R_0_random[:366])\n",
    "    \n",
    "    return np.array(data), np.array(labels)"
   ]
  },
  {
   "cell_type": "code",
   "execution_count": 3,
   "metadata": {},
   "outputs": [
    {
     "name": "stderr",
     "output_type": "stream",
     "text": [
      "100%|██████████| 20000/20000 [40:53<00:00,  8.15it/s]\n"
     ]
    }
   ],
   "source": [
    "data, R_0 = generate_data(20000)"
   ]
  },
  {
   "cell_type": "code",
   "execution_count": 4,
   "metadata": {},
   "outputs": [
    {
     "data": {
      "text/plain": [
       "(20000, 366, 3)"
      ]
     },
     "execution_count": 4,
     "metadata": {},
     "output_type": "execute_result"
    }
   ],
   "source": [
    "data.shape"
   ]
  },
  {
   "cell_type": "code",
   "execution_count": 6,
   "metadata": {},
   "outputs": [
    {
     "data": {
      "text/plain": [
       "'e:\\\\OneDriveLocal\\\\OneDrive\\\\学习\\\\Graduate Study\\\\2022Spring\\\\dabp\\\\project\\\\dabp-pandemic-simulation\\\\nbs'"
      ]
     },
     "execution_count": 6,
     "metadata": {},
     "output_type": "execute_result"
    }
   ],
   "source": [
    "%pwd"
   ]
  },
  {
   "cell_type": "code",
   "execution_count": 7,
   "metadata": {},
   "outputs": [],
   "source": [
    "import pickle\n",
    "\n",
    "with open(\"../nn/data/data.pkl\", 'wb') as f:\n",
    "    \n",
    "    pickle.dump((data, R_0), f)"
   ]
  }
 ],
 "metadata": {
  "interpreter": {
   "hash": "066f6f6b278bf3971e830f1c2839058169a2808f7f5fb308820caf0c6d63c345"
  },
  "kernelspec": {
   "display_name": "Python 3.7.11 ('decision-analytics')",
   "language": "python",
   "name": "python3"
  },
  "language_info": {
   "codemirror_mode": {
    "name": "ipython",
    "version": 3
   },
   "file_extension": ".py",
   "mimetype": "text/x-python",
   "name": "python",
   "nbconvert_exporter": "python",
   "pygments_lexer": "ipython3",
   "version": "3.7.11"
  },
  "orig_nbformat": 4
 },
 "nbformat": 4,
 "nbformat_minor": 2
}
