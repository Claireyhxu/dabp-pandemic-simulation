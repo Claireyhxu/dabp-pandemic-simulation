{
 "cells": [
  {
   "cell_type": "code",
   "execution_count": 14,
   "metadata": {},
   "outputs": [],
   "source": [
    "import numpy as np\n",
    "import torch\n",
    "import torch.nn as nn\n",
    "import pickle\n",
    "from torch.utils.data import Dataset, DataLoader"
   ]
  },
  {
   "cell_type": "code",
   "execution_count": 4,
   "metadata": {},
   "outputs": [],
   "source": [
    "class SIRSimulatedData(Dataset):\n",
    "    \n",
    "    def __init__(self, path='data/data.pkl', partition='train'):\n",
    "        super(SIRSimulatedData).__init__()\n",
    "    \n",
    "        with open(path, 'rb') as f:\n",
    "            \n",
    "            data, labels = pickle.load(f)\n",
    "            \n",
    "        if partition == 'train':\n",
    "            self.data, self.labels = data[:16000], labels[:16000]\n",
    "        \n",
    "        elif partition == 'dev':\n",
    "            self.data, self.labels = data[16000:18000], labels[16000:18000]\n",
    "        \n",
    "        elif partition == 'test':\n",
    "            self.data, self.labels = data[18000:], labels[18000:]\n",
    "            \n",
    "        \n",
    "    def __len__(self):\n",
    "        \n",
    "        return len(self.labels)\n",
    "    \n",
    "    def __getitem__(self, index):\n",
    "        \n",
    "        return self.data[index], self.labels[index]"
   ]
  },
  {
   "cell_type": "code",
   "execution_count": 12,
   "metadata": {},
   "outputs": [],
   "source": [
    "train_data = SIRSimulatedData(partition='train')\n",
    "train_loader = DataLoader(train_data, batch_size=10, shuffle=True)\n"
   ]
  },
  {
   "cell_type": "code",
   "execution_count": 13,
   "metadata": {},
   "outputs": [
    {
     "data": {
      "text/plain": [
       "torch.Size([10, 366, 3])"
      ]
     },
     "execution_count": 13,
     "metadata": {},
     "output_type": "execute_result"
    }
   ],
   "source": [
    "X, y = next(iter(train_loader))\n",
    "X.shape"
   ]
  },
  {
   "cell_type": "code",
   "execution_count": 28,
   "metadata": {},
   "outputs": [],
   "source": [
    "class Network(nn.Module):\n",
    "    \n",
    "    def __init__(self, num_layers, num_hidden, bidirectional=False):\n",
    "        super(Network, self).__init__()\n",
    "        \n",
    "        self.num_layers = num_layers\n",
    "        self.num_hidden = num_hidden\n",
    "        \n",
    "        if bidirectional:\n",
    "            self.bidirectional_multiplier = 2\n",
    "        else:\n",
    "            self.bidirectional_multiplier = 1\n",
    "        \n",
    "        self.rnn = nn.RNN(input_size=3, \n",
    "                          hidden_size=self.num_hidden,\n",
    "                          num_layers=self.num_layers,\n",
    "                          dropout=0,\n",
    "                          bidirectional=bidirectional)\n",
    "        \n",
    "        self.reg = nn.Sequential(*[nn.Linear(self.num_hidden * self.bidirectional_multiplier, 2048),\n",
    "                                   nn.Linear(2048, 1)])\n",
    "    \n",
    "    def forward(self, X):\n",
    "        \n",
    "        out, _ = self.rnn(X)\n",
    "        out = self.reg(out)\n",
    "        \n",
    "        return out"
   ]
  },
  {
   "cell_type": "code",
   "execution_count": 32,
   "metadata": {},
   "outputs": [],
   "source": [
    "model = Network(num_layers=4, num_hidden=128, bidirectional=True)\n",
    "out = model(X.float()).squeeze()"
   ]
  },
  {
   "cell_type": "code",
   "execution_count": 33,
   "metadata": {},
   "outputs": [
    {
     "data": {
      "text/plain": [
       "torch.Size([10, 366])"
      ]
     },
     "execution_count": 33,
     "metadata": {},
     "output_type": "execute_result"
    }
   ],
   "source": [
    "out.shape"
   ]
  }
 ],
 "metadata": {
  "interpreter": {
   "hash": "8ab0d968002a578cf1e1aa041721a175249ba338f6da29efa5ef1a380c630376"
  },
  "kernelspec": {
   "display_name": "Python 3.7.11 ('base')",
   "language": "python",
   "name": "python3"
  },
  "language_info": {
   "codemirror_mode": {
    "name": "ipython",
    "version": 3
   },
   "file_extension": ".py",
   "mimetype": "text/x-python",
   "name": "python",
   "nbconvert_exporter": "python",
   "pygments_lexer": "ipython3",
   "version": "3.7.11"
  },
  "orig_nbformat": 4
 },
 "nbformat": 4,
 "nbformat_minor": 2
}
