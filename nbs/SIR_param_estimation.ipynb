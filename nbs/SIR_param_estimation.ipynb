{
 "cells": [
  {
   "cell_type": "markdown",
   "metadata": {},
   "source": [
    "### **SIR Model Parameters Estimation**"
   ]
  },
  {
   "cell_type": "code",
   "execution_count": 2,
   "metadata": {},
   "outputs": [],
   "source": [
    "import numpy as np\n",
    "import pandas as pd\n",
    "from scipy.integrate import odeint\n",
    "import matplotlib.pyplot as plt\n",
    "# from tqdm import tqdm\n"
   ]
  },
  {
   "cell_type": "code",
   "execution_count": 108,
   "metadata": {},
   "outputs": [],
   "source": [
    "# ### ------------------- Parameters to Vary ------------------- ###\n",
    "\n",
    "# # lambda: number of people that a susceptible person interacts with per time step\n",
    "# # p: probability of getting infected if a susceptible person interacts with an infectious person\n",
    "# # gamma: recovery rate (recovery probability within one time step)\n",
    "# gamma = 1./14 # set lam = 2 vs 20, p = 0.3, gamma = 1/14\n",
    "\n",
    "# ### ------------------- Fixed Parameters ------------------- ###\n",
    "\n",
    "# # Total population.\n",
    "# N_NJ = 9288994\n",
    "# N_NY = 20201249\n",
    "# N_CA = 39538223\n",
    "# N_IL = 12812508\n",
    "# N_PA = 13002700\n",
    "\n",
    "# # A grid of time points (in days) for the detecting period\n",
    "# t_set = np.linspace(0, 765, 766)\n",
    "\n",
    "# # Initial number of infected and immune individuals, I0 and R0.\n",
    "# I0, R0 = 10, 0\n",
    "\n",
    "# # Everyone else, S0, is susceptible to infection initially.\n",
    "# S0_NJ = N_NJ - I0 - R0\n",
    "# S0_NY = N_NY - I0 - R0\n",
    "# S0_CA = N_CA - I0 - R0\n",
    "# S0_IL = N_IL - I0 - R0\n",
    "# S0_PA = N_PA - I0 - R0\n",
    "\n",
    "# # The SIR model differential equations.\n",
    "# def deriv_dynamic(y, t, N, beta, gamma):\n",
    "#     S, I, R = y\n",
    "#     dSdt = -beta(t) * S * I / N\n",
    "#     dIdt = beta(t) * S * I / N - gamma * I\n",
    "#     dRdt = gamma * I\n",
    "#     return dSdt, dIdt, dRdt\n",
    "\n",
    "# x = np.linspace(0, 765, 766)\n",
    "\n",
    "# r0_gamma = np.array([5, 4, 4, 3, 2, 2, 1, 1, 0.5, 0.5])\n",
    "\n",
    "# def random_beta(t):\n",
    "        \n",
    "#     if t < 36:\n",
    "#         return r0_gamma[0]\n",
    "#     if 36 <= t < 72:\n",
    "#         return r0_gamma[1]\n",
    "#     if 72 <= t < 108:\n",
    "#         return r0_gamma[2]\n",
    "#     if 108 <= t < 144:\n",
    "#         return r0_gamma[3]\n",
    "#     if 144 <= t < 180:\n",
    "#         return r0_gamma[4]\n",
    "#     if 180 <= t < 216:\n",
    "#         return r0_gamma[5]\n",
    "#     if 216 <= t < 248:\n",
    "#         return r0_gamma[6]\n",
    "#     if 248 <= t < 284:\n",
    "#         return r0_gamma[7]\n",
    "#     if 284 <= t < 320:\n",
    "#         return r0_gamma[8]\n",
    "#     if t > 320:\n",
    "#         return r0_gamma[9]\n",
    "\n",
    "\n",
    "# ### ----------------- Dynamic Parameters ----------------- ###\n",
    "\n",
    "# # Initial conditions vector\n",
    "# y0 = S0, I0, R0\n",
    "# # Integrate the SIR equations over the time grid, t.\n",
    "# ret = odeint(deriv_dynamic, y0, t_set, args=(N, random_beta, gamma))\n",
    "# S_syn, I_syn, R_syn = ret.T\n",
    "\n",
    "# # Plot the data on three separate curves for S(t), I(t) and R(t)\n",
    "# fig = plt.figure(facecolor='w')\n",
    "# ax = fig.add_subplot(111, facecolor='#dddddd', axisbelow=True)\n",
    "# ax.plot(t_set, S_syn/N, 'b', alpha=0.5, lw=2, label='Susceptible')\n",
    "# ax.plot(t_set, I_syn/N, 'r', alpha=0.5, lw=2, label='Infected')\n",
    "# ax.plot(t_set, R_syn/N, 'g', alpha=0.5, lw=2, label='Recovered/Removed')\n",
    "# ax.set_xlabel('Time /days')\n",
    "# ax.set_ylabel('Percentage of Population')\n",
    "# ax.set_ylim(0,1.2)\n",
    "# ax.yaxis.set_tick_params(length=0)\n",
    "# ax.xaxis.set_tick_params(length=0)\n",
    "# ax.grid(b=True, which='major', c='w', lw=2, ls='-')\n",
    "# legend = ax.legend()\n",
    "# legend.get_frame().set_alpha(0.5)\n",
    "# for spine in ('top', 'right', 'bottom', 'left'):\n",
    "#     ax.spines[spine].set_visible(False)\n",
    "# plt.show()"
   ]
  },
  {
   "cell_type": "code",
   "execution_count": 3,
   "metadata": {},
   "outputs": [],
   "source": [
    "from sklearn.metrics import mean_absolute_error, mean_squared_error\n",
    "import scipy.optimize as optimize"
   ]
  },
  {
   "cell_type": "code",
   "execution_count": 93,
   "metadata": {},
   "outputs": [],
   "source": [
    "# est_R_0 = np.array([0.9] * 26)\n",
    "# est_R_0 = np.random.normal(2, 0.5, size=(26,))\n",
    "est_R_0 = np.concatenate((np.random.normal(1, 0.5, size=(13,)), np.random.normal(2, 0.5, size=(13,))), axis=0)\n",
    "t_set = np.linspace(0, 765, 766)\n",
    "\n",
    "def loss_func(est_R_0, I_true, type_loss_func, state):\n",
    "    gamma = 1./14\n",
    "\n",
    "    N_dict = {\n",
    "        \"NJ\": 9288994,\n",
    "        \"NY\": 20201249,\n",
    "        \"CA\": 39538223,\n",
    "        \"IL\": 12812508,\n",
    "        \"PA\": 13002700\n",
    "    }\n",
    "\n",
    "    N = N_dict[state]\n",
    "    I0, R0 = 20, 0\n",
    "    S0 = N - I0 - R0\n",
    "    y0 = S0, I0, R0\n",
    "    est_R_0 = np.abs(est_R_0)\n",
    "    \n",
    "    def random_beta(t):\n",
    "        idx = int(t//30)\n",
    "        idx = 25 if idx > 25 else idx\n",
    "        idx = 0 if idx < 0  else idx\n",
    "\n",
    "        return est_R_0[idx] * gamma\n",
    "    \n",
    "    def deriv_dynamic(y, t, N, beta, gamma):\n",
    "        S, I, R = y\n",
    "        dSdt = - beta(t) * S * I / N\n",
    "        dIdt = beta(t) * S * I / N - gamma * I\n",
    "        dRdt = gamma * I\n",
    "        return dSdt, dIdt, dRdt\n",
    "    \n",
    "    ret = odeint(deriv_dynamic, y0, t_set, args=(N, random_beta, gamma))\n",
    "    _, I, _ = ret.T\n",
    "    \n",
    "    loss = type_loss_func(I_true, I/N)\n",
    "    \n",
    "    return loss\n"
   ]
  },
  {
   "cell_type": "code",
   "execution_count": 100,
   "metadata": {},
   "outputs": [],
   "source": [
    "N_NJ = 9288994\n",
    "N_NY = 20201249\n",
    "N_CA = 39538223\n",
    "N_IL = 12812508\n",
    "N_PA = 13002700\n",
    "\n",
    "with open(\"NJ.txt\") as f:\n",
    "    string_NJ = f.readline()\n",
    "NJ_data = np.array(string_NJ.split(\",\")).astype(\"float\")/N_NJ\n",
    "\n",
    "with open(\"NY.txt\") as f:\n",
    "    string_NY = f.readline()\n",
    "NY_data = np.array(string_NJ.split(\",\")).astype(\"float\")/N_NY\n",
    "\n",
    "with open(\"CA.txt\") as f:\n",
    "    string_CA = f.readline()\n",
    "CA_data = np.array(string_CA.split(\",\")).astype(\"float\")/N_CA\n",
    "\n",
    "with open(\"IL.txt\") as f:\n",
    "    string_IL = f.readline()\n",
    "IL_data = np.array(string_IL.split(\",\")).astype(\"float\")/N_IL\n",
    "\n",
    "with open(\"PA.txt\") as f:\n",
    "    string_PA = f.readline()\n",
    "PA_data = np.array(string_PA.split(\",\")).astype(\"float\")/N_PA"
   ]
  },
  {
   "cell_type": "code",
   "execution_count": 94,
   "metadata": {},
   "outputs": [
    {
     "name": "stdout",
     "output_type": "stream",
     "text": [
      "Warning: Desired error not necessarily achieved due to precision loss.\n",
      "         Current function value: 0.021447\n",
      "         Iterations: 3\n",
      "         Function evaluations: 1038\n",
      "         Gradient evaluations: 38\n",
      "Warning: Desired error not necessarily achieved due to precision loss.\n",
      "         Current function value: 0.001157\n",
      "         Iterations: 16\n",
      "         Function evaluations: 1161\n",
      "         Gradient evaluations: 43\n"
     ]
    }
   ],
   "source": [
    "# NJ\n",
    "optimzer_mae = optimize.minimize(loss_func, est_R_0, args=(NJ_data, mean_absolute_error, \"NJ\"), options={'maxiter':1000, 'disp':True})\n",
    "optimzer_mse = optimize.minimize(loss_func, est_R_0, args=(NJ_data, mean_squared_error, \"NJ\"), options={'maxiter':1000, 'disp':True})"
   ]
  },
  {
   "cell_type": "code",
   "execution_count": 95,
   "metadata": {},
   "outputs": [],
   "source": [
    "# NJ\n",
    "r0_pred = np.abs(optimzer_mse.x)"
   ]
  },
  {
   "cell_type": "code",
   "execution_count": 96,
   "metadata": {},
   "outputs": [
    {
     "data": {
      "text/plain": [
       "array([1.14277089, 1.18934177, 0.01077381, 0.74549687, 1.19465931,\n",
       "       1.11464018, 1.15067631, 1.0338036 , 0.97987005, 0.73411038,\n",
       "       0.19305169, 1.00913316, 1.3605029 , 1.7151832 , 2.18253833,\n",
       "       1.69235811, 2.11184757, 2.24118052, 1.8259404 , 1.88248783,\n",
       "       1.54608555, 2.65541725, 2.18438238, 1.892205  , 1.39230626,\n",
       "       1.87622446])"
      ]
     },
     "execution_count": 96,
     "metadata": {},
     "output_type": "execute_result"
    }
   ],
   "source": [
    "r0_pred\n"
   ]
  },
  {
   "cell_type": "code",
   "execution_count": 97,
   "metadata": {},
   "outputs": [
    {
     "name": "stderr",
     "output_type": "stream",
     "text": [
      "C:\\Users\\Claire\\anaconda3\\envs\\decision-analytics\\lib\\site-packages\\ipykernel_launcher.py:46: MatplotlibDeprecationWarning: The 'b' parameter of grid() has been renamed 'visible' since Matplotlib 3.5; support for the old name will be dropped two minor releases later.\n"
     ]
    },
    {
     "data": {
      "image/png": "[encoded data removed]",
      "text/plain": [
       "<Figure size 432x288 with 1 Axes>"
      ]
     },
     "metadata": {},
     "output_type": "display_data"
    }
   ],
   "source": [
    "gamma = 1./14\n",
    "state = \"NJ\"\n",
    "\n",
    "N_dict = {\n",
    "    \"NJ\": 9288994,\n",
    "    \"NY\": 20201249,\n",
    "    \"CA\": 39538223,\n",
    "    \"IL\": 12812508,\n",
    "    \"PA\": 13002700\n",
    "}\n",
    "\n",
    "N = N_dict[state]\n",
    "I0, R0 = 20, 0\n",
    "S0 = N - I0 - R0\n",
    "y0 = S0, I0, R0\n",
    "est_R_0 = np.abs(est_R_0)\n",
    "\n",
    "def random_beta(t):\n",
    "    idx = int(t//30)\n",
    "    idx = 25 if idx > 25 else idx\n",
    "    idx = 0 if idx < 0  else idx\n",
    "\n",
    "    return est_R_0[idx] * gamma\n",
    "\n",
    "def deriv_dynamic(y, t, N, beta, gamma):\n",
    "    S, I, R = y\n",
    "    dSdt = - beta(t) * S * I / N\n",
    "    dIdt = beta(t) * S * I / N - gamma * I\n",
    "    dRdt = gamma * I\n",
    "    return dSdt, dIdt, dRdt\n",
    "\n",
    "ret = odeint(deriv_dynamic, y0, t_set, args=(N, random_beta, gamma))\n",
    "S, I, R = ret.T\n",
    "\n",
    "\n",
    "fig = plt.figure(facecolor='w')\n",
    "ax = fig.add_subplot(111, facecolor='#dddddd', axisbelow=True)\n",
    "# ax.plot(t_set, S/N_NJ, 'b', alpha=0.5, lw=2, label='Susceptible')\n",
    "ax.plot(t_set, I/N_NJ, 'r', alpha=0.5, lw=2, label='Infected')\n",
    "ax.plot(t_set, R/N_NJ, 'g', alpha=0.5, lw=2, label='Recovered/Removed')\n",
    "ax.set_xlabel('Time /days')\n",
    "ax.set_ylabel('Percentage of Population')\n",
    "ax.set_ylim(0,1)\n",
    "ax.yaxis.set_tick_params(length=0)\n",
    "ax.xaxis.set_tick_params(length=0)\n",
    "ax.grid(b=True, which='major', c='w', lw=2, ls='-')\n",
    "legend = ax.legend()\n",
    "legend.get_frame().set_alpha(0.5)\n",
    "for spine in ('top', 'right', 'bottom', 'left'):\n",
    "    ax.spines[spine].set_visible(False)\n",
    "plt.show()"
   ]
  },
  {
   "cell_type": "code",
   "execution_count": 98,
   "metadata": {},
   "outputs": [
    {
     "data": {
      "image/png": "[encoded data removed]",
      "text/plain": [
       "<Figure size 432x288 with 1 Axes>"
      ]
     },
     "metadata": {
      "needs_background": "light"
     },
     "output_type": "display_data"
    }
   ],
   "source": [
    "fig, ax = plt.subplots()\n",
    "\n",
    "ax.plot(list(range(766)), I/N_NJ, label=\"I_pred\", alpha=0.5)\n",
    "ax.plot(list(range(766)), NJ_data, label=\"I_true\", alpha=0.5)\n",
    "plt.legend()\n",
    "plt.show()"
   ]
  },
  {
   "cell_type": "code",
   "execution_count": 105,
   "metadata": {},
   "outputs": [
    {
     "data": {
      "image/png": "[encoded data removed]",
      "text/plain": [
       "<Figure size 432x288 with 1 Axes>"
      ]
     },
     "metadata": {
      "needs_background": "light"
     },
     "output_type": "display_data"
    }
   ],
   "source": [
    "fig, ax = plt.subplots()\n",
    "ax.plot(list(range(766)), NJ_data, label=\"NJ_true\", alpha=0.5)\n",
    "ax.plot(list(range(766)), NY_data, label=\"NY_true\", alpha=0.5)\n",
    "ax.plot(list(range(766)), CA_data, label=\"CA_true\", alpha=0.5)\n",
    "ax.plot(list(range(766)), IL_data, label=\"IL_true\", alpha=0.5)\n",
    "ax.plot(list(range(766)), PA_data, label=\"PA_true\", alpha=0.5)\n",
    "plt.legend()\n",
    "plt.show()"
   ]
  },
  {
   "cell_type": "code",
   "execution_count": 106,
   "metadata": {},
   "outputs": [],
   "source": [
    "# ### ------------------- Parameters to Vary ------------------- ###\n",
    "\n",
    "# # lambda: number of people that a susceptible person interacts with per time step\n",
    "# # p: probability of getting infected if a susceptible person interacts with an infectious person\n",
    "# # gamma: recovery rate (recovery probability within one time step)\n",
    "# gamma = 1./14 # set lam = 2 vs 20, p = 0.3, gamma = 1/14\n",
    "\n",
    "# ### ------------------- Fixed Parameters ------------------- ###\n",
    "\n",
    "# # Total population.\n",
    "# N_NJ = 9288994\n",
    "# N_NY = 20201249\n",
    "# N_CA = 39538223\n",
    "# N_IL = 12812508\n",
    "# N_PA = 13002700\n",
    "\n",
    "# # A grid of time points (in days) for the detecting period\n",
    "# t_set = np.linspace(0, 765, 766)\n",
    "\n",
    "# # Initial number of infected and immune individuals, I0 and R0.\n",
    "# I0, R0 = 10, 0\n",
    "\n",
    "# # Everyone else, S0, is susceptible to infection initially.\n",
    "# S0 = N - I0 - R0\n",
    "\n",
    "# # The SIR model differential equations.\n",
    "# def deriv_dynamic(y, t, N, beta, gamma):\n",
    "#     S, I, R = y\n",
    "#     dSdt = -beta(t) * S * I / N\n",
    "#     dIdt = beta(t) * S * I / N - gamma * I\n",
    "#     dRdt = gamma * I\n",
    "#     return dSdt, dIdt, dRdt\n",
    "\n",
    "# x = np.linspace(0, 367, 368)\n",
    "\n",
    "# def random_beta(t):\n",
    "        \n",
    "#     if t < 36:\n",
    "#         return r0_pred[0]\n",
    "#     if 36 <= t < 72:\n",
    "#         return r0_pred[1]\n",
    "#     if 72 <= t < 108:\n",
    "#         return r0_pred[2]\n",
    "#     if 108 <= t < 144:\n",
    "#         return r0_pred[3]\n",
    "#     if 144 <= t < 180:\n",
    "#         return r0_pred[4]\n",
    "#     if 180 <= t < 216:\n",
    "#         return r0_pred[5]\n",
    "#     if 216 <= t < 248:\n",
    "#         return r0_pred[6]\n",
    "#     if 248 <= t < 284:\n",
    "#         return r0_pred[7]\n",
    "#     if 284 <= t < 320:\n",
    "#         return r0_pred[8]\n",
    "#     if t > 320:\n",
    "#         return r0_pred[9]\n",
    "\n",
    "# ### ----------------- Dynamic Parameters ----------------- ###\n",
    "\n",
    "# # Initial conditions vector\n",
    "# y0 = S0, I0, R0\n",
    "# # Integrate the SIR equations over the time grid, t.\n",
    "# ret = odeint(deriv_dynamic, y0, t_set, args=(N, random_beta, gamma))\n",
    "# S_pred, I_pred, R_pred = ret.T\n",
    "\n",
    "# # Plot the data on three separate curves for S(t), I(t) and R(t)\n",
    "# fig = plt.figure(facecolor='w')\n",
    "# ax = fig.add_subplot(111, facecolor='#dddddd', axisbelow=True)\n",
    "# ax.plot(t_set, S_pred/N, 'b', alpha=0.5, lw=2, label='Susceptible')\n",
    "# ax.plot(t_set, I_pred/N, 'r', alpha=0.5, lw=2, label='Infected')\n",
    "# ax.plot(t_set, R_pred/N, 'g', alpha=0.5, lw=2, label='Recovered/Removed')\n",
    "# ax.set_xlabel('Time /days')\n",
    "# ax.set_ylabel('Percentage of Population')\n",
    "# ax.set_ylim(0,1.2)\n",
    "# ax.yaxis.set_tick_params(length=0)\n",
    "# ax.xaxis.set_tick_params(length=0)\n",
    "# ax.grid(b=True, which='major', c='w', lw=2, ls='-')\n",
    "# legend = ax.legend()\n",
    "# legend.get_frame().set_alpha(0.5)\n",
    "# for spine in ('top', 'right', 'bottom', 'left'):\n",
    "#     ax.spines[spine].set_visible(False)\n",
    "# plt.show()"
   ]
  },
  {
   "cell_type": "code",
   "execution_count": 107,
   "metadata": {},
   "outputs": [],
   "source": [
    "# fig, ax = plt.subplots()\n",
    "\n",
    "# ax.plot(list(range(366)), I_pred, label=\"I_pred\", alpha=0.5)\n",
    "# ax.plot(list(range(366)), I_syn, label=\"I_true\", alpha=0.5)\n",
    "# plt.legend()\n",
    "# plt.show()"
   ]
  }
 ],
 "metadata": {
  "interpreter": {
   "hash": "8ab0d968002a578cf1e1aa041721a175249ba338f6da29efa5ef1a380c630376"
  },
  "kernelspec": {
   "display_name": "Python 3.7.11 ('base')",
   "language": "python",
   "name": "python3"
  },
  "language_info": {
   "codemirror_mode": {
    "name": "ipython",
    "version": 3
   },
   "file_extension": ".py",
   "mimetype": "text/x-python",
   "name": "python",
   "nbconvert_exporter": "python",
   "pygments_lexer": "ipython3",
   "version": "3.7.11"
  },
  "orig_nbformat": 4
 },
 "nbformat": 4,
 "nbformat_minor": 2
}
