{
 "cells": [
  {
   "cell_type": "markdown",
   "metadata": {},
   "source": [
    "### **SIR Model Parameters Estimation**"
   ]
  },
  {
   "cell_type": "code",
   "execution_count": 2,
   "metadata": {},
   "outputs": [],
   "source": [
    "import numpy as np\n",
    "from scipy.integrate import odeint\n",
    "import matplotlib.pyplot as plt\n",
    "from tqdm import tqdm\n"
   ]
  },
  {
   "cell_type": "code",
   "execution_count": 46,
   "metadata": {},
   "outputs": [
    {
     "data": {
      "image/png": "[encoded data removed]",
      "text/plain": [
       "<Figure size 432x288 with 1 Axes>"
      ]
     },
     "metadata": {},
     "output_type": "display_data"
    }
   ],
   "source": [
    "### ------------------- Parameters to Vary ------------------- ###\n",
    "\n",
    "# lambda: number of people that a susceptible person interacts with per time step\n",
    "# p: probability of getting infected if a susceptible person interacts with an infectious person\n",
    "# gamma: recovery rate (recovery probability within one time step)\n",
    "gamma = 1./14 # set lam = 2 vs 20, p = 0.3, gamma = 1/14\n",
    "\n",
    "### ------------------- Fixed Parameters ------------------- ###\n",
    "\n",
    "# Total population.\n",
    "N = 300000000\n",
    "\n",
    "# A grid of time points (in days) for the detecting period\n",
    "t_set = np.linspace(0, 365, 366)\n",
    "\n",
    "# Initial number of infected and immune individuals, I0 and R0.\n",
    "I0, R0 = 10, 0\n",
    "\n",
    "# Everyone else, S0, is susceptible to infection initially.\n",
    "S0 = N - I0 - R0\n",
    "\n",
    "# The SIR model differential equations.\n",
    "def deriv_dynamic(y, t, N, beta, gamma):\n",
    "    S, I, R = y\n",
    "    dSdt = -beta(t) * S * I / N\n",
    "    dIdt = beta(t) * S * I / N - gamma * I\n",
    "    dRdt = gamma * I\n",
    "    return dSdt, dIdt, dRdt\n",
    "\n",
    "x = np.linspace(0, 365, 366)\n",
    "\n",
    "r0_true = np.array([5, 4, 4, 3, 2, 2, 1, 1, 0.5, 0.5])\n",
    "\n",
    "def random_beta(t):\n",
    "        \n",
    "    if t < 36:\n",
    "        return r0_true[0]\n",
    "    if 36 <= t < 72:\n",
    "        return r0_true[1]\n",
    "    if 72 <= t < 108:\n",
    "        return r0_true[2]\n",
    "    if 108 <= t < 144:\n",
    "        return r0_true[3]\n",
    "    if 144 <= t < 180:\n",
    "        return r0_true[4]\n",
    "    if 180 <= t < 216:\n",
    "        return r0_true[5]\n",
    "    if 216 <= t < 248:\n",
    "        return r0_true[6]\n",
    "    if 248 <= t < 284:\n",
    "        return r0_true[7]\n",
    "    if 284 <= t < 320:\n",
    "        return r0_true[8]\n",
    "    if t > 320:\n",
    "        return r0_true[9]\n",
    "\n",
    "\n",
    "### ----------------- Dynamic Parameters ----------------- ###\n",
    "\n",
    "# Initial conditions vector\n",
    "y0 = S0, I0, R0\n",
    "# Integrate the SIR equations over the time grid, t.\n",
    "ret = odeint(deriv_dynamic, y0, t_set, args=(N, random_beta, gamma))\n",
    "S_syn, I_syn, R_syn = ret.T\n",
    "\n",
    "# Plot the data on three separate curves for S(t), I(t) and R(t)\n",
    "fig = plt.figure(facecolor='w')\n",
    "ax = fig.add_subplot(111, facecolor='#dddddd', axisbelow=True)\n",
    "ax.plot(t_set, S_syn/N, 'b', alpha=0.5, lw=2, label='Susceptible')\n",
    "ax.plot(t_set, I_syn/N, 'r', alpha=0.5, lw=2, label='Infected')\n",
    "ax.plot(t_set, R_syn/N, 'g', alpha=0.5, lw=2, label='Recovered/Removed')\n",
    "ax.set_xlabel('Time /days')\n",
    "ax.set_ylabel('Percentage of Population')\n",
    "ax.set_ylim(0,1.2)\n",
    "ax.yaxis.set_tick_params(length=0)\n",
    "ax.xaxis.set_tick_params(length=0)\n",
    "ax.grid(b=True, which='major', c='w', lw=2, ls='-')\n",
    "legend = ax.legend()\n",
    "legend.get_frame().set_alpha(0.5)\n",
    "for spine in ('top', 'right', 'bottom', 'left'):\n",
    "    ax.spines[spine].set_visible(False)\n",
    "plt.show()"
   ]
  },
  {
   "cell_type": "code",
   "execution_count": 7,
   "metadata": {},
   "outputs": [],
   "source": [
    "from sklearn.metrics import mean_absolute_error, mean_squared_error\n",
    "import scipy.optimize as optimize"
   ]
  },
  {
   "cell_type": "code",
   "execution_count": 47,
   "metadata": {},
   "outputs": [],
   "source": [
    "est_R_0 = np.array([0.5] * 10)\n",
    "t_set = np.linspace(0, 365, 366)\n",
    "\n",
    "def loss_func(est_R_0, I_true):\n",
    "    \n",
    "    est_R_0 = np.abs(est_R_0)\n",
    "    \n",
    "    def random_beta(t):\n",
    "        \n",
    "        if t < 36:\n",
    "            return est_R_0[0]\n",
    "        if 36 <= t < 72:\n",
    "            return est_R_0[1]\n",
    "        if 72 <= t < 108:\n",
    "            return est_R_0[2]\n",
    "        if 108 <= t < 144:\n",
    "            return est_R_0[3]\n",
    "        if 144 <= t < 180:\n",
    "            return est_R_0[4]\n",
    "        if 180 <= t < 216:\n",
    "            return est_R_0[5]\n",
    "        if 216 <= t < 248:\n",
    "            return est_R_0[6]\n",
    "        if 248 <= t < 284:\n",
    "            return est_R_0[7]\n",
    "        if 284 <= t < 320:\n",
    "            return est_R_0[8]\n",
    "        if t > 320:\n",
    "            return est_R_0[9]\n",
    "    \n",
    "    def deriv_dynamic(y, t, N, beta, gamma):\n",
    "        S, I, R = y\n",
    "        dSdt = - beta(t) * S * I / N\n",
    "        dIdt = beta(t) * S * I / N - gamma * I\n",
    "        dRdt = gamma * I\n",
    "        return dSdt, dIdt, dRdt\n",
    "    \n",
    "    ret = odeint(deriv_dynamic, y0, t_set, args=(N, random_beta, gamma))\n",
    "    _, I, _ = ret.T\n",
    "    \n",
    "    loss = mean_absolute_error(I_true, I)\n",
    "    \n",
    "    return loss\n"
   ]
  },
  {
   "cell_type": "code",
   "execution_count": 48,
   "metadata": {},
   "outputs": [],
   "source": [
    "optimzer = optimize.minimize(loss_func, est_R_0, args=(I_syn,))"
   ]
  },
  {
   "cell_type": "code",
   "execution_count": 49,
   "metadata": {},
   "outputs": [],
   "source": [
    "r0_pred = np.abs(optimzer.x)"
   ]
  },
  {
   "cell_type": "code",
   "execution_count": 50,
   "metadata": {},
   "outputs": [
    {
     "data": {
      "text/plain": [
       "array([4.99999999e+00, 1.64165348e+01, 8.05446209e+02, 2.02891914e+02,\n",
       "       2.74985234e+00, 6.76954679e-01, 5.18959430e-01, 5.06319810e-01,\n",
       "       5.00000000e-01, 5.00000000e-01])"
      ]
     },
     "execution_count": 50,
     "metadata": {},
     "output_type": "execute_result"
    }
   ],
   "source": [
    "r0_pred"
   ]
  },
  {
   "cell_type": "code",
   "execution_count": 51,
   "metadata": {},
   "outputs": [
    {
     "data": {
      "image/png": "[encoded data removed]",
      "text/plain": [
       "<Figure size 432x288 with 1 Axes>"
      ]
     },
     "metadata": {},
     "output_type": "display_data"
    }
   ],
   "source": [
    "### ------------------- Parameters to Vary ------------------- ###\n",
    "\n",
    "# lambda: number of people that a susceptible person interacts with per time step\n",
    "# p: probability of getting infected if a susceptible person interacts with an infectious person\n",
    "# gamma: recovery rate (recovery probability within one time step)\n",
    "gamma = 1./14 # set lam = 2 vs 20, p = 0.3, gamma = 1/14\n",
    "\n",
    "### ------------------- Fixed Parameters ------------------- ###\n",
    "\n",
    "# Total population.\n",
    "N = 300000000\n",
    "\n",
    "# A grid of time points (in days) for the detecting period\n",
    "t_set = np.linspace(0, 365, 366)\n",
    "\n",
    "# Initial number of infected and immune individuals, I0 and R0.\n",
    "I0, R0 = 10, 0\n",
    "\n",
    "# Everyone else, S0, is susceptible to infection initially.\n",
    "S0 = N - I0 - R0\n",
    "\n",
    "# The SIR model differential equations.\n",
    "def deriv_dynamic(y, t, N, beta, gamma):\n",
    "    S, I, R = y\n",
    "    dSdt = -beta(t) * S * I / N\n",
    "    dIdt = beta(t) * S * I / N - gamma * I\n",
    "    dRdt = gamma * I\n",
    "    return dSdt, dIdt, dRdt\n",
    "\n",
    "x = np.linspace(0, 367, 368)\n",
    "\n",
    "def random_beta(t):\n",
    "        \n",
    "    if t < 36:\n",
    "        return r0_pred[0]\n",
    "    if 36 <= t < 72:\n",
    "        return r0_pred[1]\n",
    "    if 72 <= t < 108:\n",
    "        return r0_pred[2]\n",
    "    if 108 <= t < 144:\n",
    "        return r0_pred[3]\n",
    "    if 144 <= t < 180:\n",
    "        return r0_pred[4]\n",
    "    if 180 <= t < 216:\n",
    "        return r0_pred[5]\n",
    "    if 216 <= t < 248:\n",
    "        return r0_pred[6]\n",
    "    if 248 <= t < 284:\n",
    "        return r0_pred[7]\n",
    "    if 284 <= t < 320:\n",
    "        return r0_pred[8]\n",
    "    if t > 320:\n",
    "        return r0_pred[9]\n",
    "\n",
    "### ----------------- Dynamic Parameters ----------------- ###\n",
    "\n",
    "# Initial conditions vector\n",
    "y0 = S0, I0, R0\n",
    "# Integrate the SIR equations over the time grid, t.\n",
    "ret = odeint(deriv_dynamic, y0, t_set, args=(N, random_beta, gamma))\n",
    "S_pred, I_pred, R_pred = ret.T\n",
    "\n",
    "# Plot the data on three separate curves for S(t), I(t) and R(t)\n",
    "fig = plt.figure(facecolor='w')\n",
    "ax = fig.add_subplot(111, facecolor='#dddddd', axisbelow=True)\n",
    "ax.plot(t_set, S_pred/N, 'b', alpha=0.5, lw=2, label='Susceptible')\n",
    "ax.plot(t_set, I_pred/N, 'r', alpha=0.5, lw=2, label='Infected')\n",
    "ax.plot(t_set, R_pred/N, 'g', alpha=0.5, lw=2, label='Recovered/Removed')\n",
    "ax.set_xlabel('Time /days')\n",
    "ax.set_ylabel('Percentage of Population')\n",
    "ax.set_ylim(0,1.2)\n",
    "ax.yaxis.set_tick_params(length=0)\n",
    "ax.xaxis.set_tick_params(length=0)\n",
    "ax.grid(b=True, which='major', c='w', lw=2, ls='-')\n",
    "legend = ax.legend()\n",
    "legend.get_frame().set_alpha(0.5)\n",
    "for spine in ('top', 'right', 'bottom', 'left'):\n",
    "    ax.spines[spine].set_visible(False)\n",
    "plt.show()"
   ]
  },
  {
   "cell_type": "code",
   "execution_count": 52,
   "metadata": {},
   "outputs": [
    {
     "data": {
      "image/png": "[encoded data removed]",
      "text/plain": [
       "<Figure size 432x288 with 1 Axes>"
      ]
     },
     "metadata": {
      "needs_background": "light"
     },
     "output_type": "display_data"
    }
   ],
   "source": [
    "fig, ax = plt.subplots()\n",
    "\n",
    "ax.plot(list(range(366)), I_pred, label=\"I_pred\", alpha=0.5)\n",
    "ax.plot(list(range(366)), I_syn, label=\"I_true\", alpha=0.5)\n",
    "plt.legend()\n",
    "plt.show()"
   ]
  }
 ],
 "metadata": {
  "interpreter": {
   "hash": "8ab0d968002a578cf1e1aa041721a175249ba338f6da29efa5ef1a380c630376"
  },
  "kernelspec": {
   "display_name": "Python 3.7.11 ('base')",
   "language": "python",
   "name": "python3"
  },
  "language_info": {
   "codemirror_mode": {
    "name": "ipython",
    "version": 3
   },
   "file_extension": ".py",
   "mimetype": "text/x-python",
   "name": "python",
   "nbconvert_exporter": "python",
   "pygments_lexer": "ipython3",
   "version": "3.7.11"
  },
  "orig_nbformat": 4
 },
 "nbformat": 4,
 "nbformat_minor": 2
}
