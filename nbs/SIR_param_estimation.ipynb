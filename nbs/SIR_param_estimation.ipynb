{
 "cells": [
  {
   "cell_type": "markdown",
   "metadata": {},
   "source": [
    "### **SIR Model Parameters Estimation**"
   ]
  },
  {
   "cell_type": "code",
   "execution_count": 4,
   "metadata": {},
   "outputs": [],
   "source": [
    "import numpy as np\n",
    "import pandas as pd\n",
    "from scipy.integrate import odeint\n",
    "import matplotlib.pyplot as plt\n",
    "np.random.seed(1)\n",
    "# from tqdm import tqdm"
   ]
  },
  {
   "cell_type": "code",
   "execution_count": 5,
   "metadata": {},
   "outputs": [],
   "source": [
    "from sklearn.metrics import mean_absolute_error, mean_squared_error\n",
    "import scipy.optimize as optimize"
   ]
  },
  {
   "cell_type": "code",
   "execution_count": 6,
   "metadata": {},
   "outputs": [],
   "source": [
    "# est_R_0 = np.array([0.9] * 26)\n",
    "# est_R_0 = np.random.normal(2, 0.5, size=(26,))\n",
    "# est_R_0 = np.concatenate((np.random.normal(1, 0.5, size=(13,)), np.random.normal(2, 0.5, size=(13,))), axis=0)\n",
    "# t_set = np.linspace(0, 765, 766)\n",
    "\n",
    "def loss_func(est_R_0, I_true, t_length, type_loss_func, state):\n",
    "    t_set = np.linspace(0, t_length - 1, t_length)\n",
    "\n",
    "    gamma = 1./14\n",
    "\n",
    "    N_dict = {\n",
    "        \"NJ\": 9288994,\n",
    "        \"NY\": 20201249,\n",
    "        \"CA\": 39538223,\n",
    "        \"IL\": 12812508,\n",
    "        \"PA\": 13002700\n",
    "    }\n",
    "\n",
    "    N = N_dict[state]\n",
    "    I0, R0 = 20, 0\n",
    "    S0 = N - I0 - R0\n",
    "    y0 = S0, I0, R0\n",
    "    est_R_0 = np.abs(est_R_0)\n",
    "    \n",
    "    def random_beta(t):\n",
    "        idx = int(t//30)\n",
    "        idx = t_length//30 - 1 if idx >= t_length//30 else idx\n",
    "        idx = 0 if idx < 0  else idx\n",
    "        return est_R_0[idx] * gamma\n",
    "    \n",
    "    def deriv_dynamic(y, t, N, beta, gamma):\n",
    "        S, I, R = y\n",
    "        dSdt = - beta(t) * S * I / N\n",
    "        dIdt = beta(t) * S * I / N - gamma * I\n",
    "        dRdt = gamma * I\n",
    "        return dSdt, dIdt, dRdt\n",
    "    \n",
    "    ret = odeint(deriv_dynamic, y0, t_set, args=(N, random_beta, gamma))\n",
    "    _, I, _ = ret.T\n",
    "    \n",
    "    loss = type_loss_func(I_true, I/N)\n",
    "    \n",
    "    return loss\n"
   ]
  },
  {
   "cell_type": "code",
   "execution_count": 7,
   "metadata": {},
   "outputs": [],
   "source": [
    "# Import data \n",
    "N_NJ = 9288994\n",
    "N_NY = 20201249\n",
    "N_CA = 39538223\n",
    "N_IL = 12812508\n",
    "N_PA = 13002700\n",
    "\n",
    "with open(\"NJ.txt\") as f:\n",
    "    string_NJ = f.readline()\n",
    "NJ_data = np.array(string_NJ.split(\",\")).astype(\"float\")/N_NJ\n",
    "\n",
    "with open(\"NY.txt\") as f:\n",
    "    string_NY = f.readline()\n",
    "NY_data = np.array(string_NJ.split(\",\")).astype(\"float\")/N_NY\n",
    "\n",
    "with open(\"CA.txt\") as f:\n",
    "    string_CA = f.readline()\n",
    "CA_data = np.array(string_CA.split(\",\")).astype(\"float\")/N_CA\n",
    "\n",
    "with open(\"IL.txt\") as f:\n",
    "    string_IL = f.readline()\n",
    "IL_data = np.array(string_IL.split(\",\")).astype(\"float\")/N_IL\n",
    "\n",
    "with open(\"PA.txt\") as f:\n",
    "    string_PA = f.readline()\n",
    "PA_data = np.array(string_PA.split(\",\")).astype(\"float\")/N_PA"
   ]
  },
  {
   "cell_type": "code",
   "execution_count": 8,
   "metadata": {},
   "outputs": [],
   "source": [
    "time_period = [180, 320, 265]"
   ]
  },
  {
   "cell_type": "code",
   "execution_count": 9,
   "metadata": {},
   "outputs": [
    {
     "name": "stdout",
     "output_type": "stream",
     "text": [
      "Optimization terminated successfully.\n",
      "         Current function value: 0.000818\n",
      "         Iterations: 505\n",
      "         Function evaluations: 793\n",
      "Optimization terminated successfully.\n",
      "         Current function value: 0.000001\n",
      "         Iterations: 491\n",
      "         Function evaluations: 795\n"
     ]
    }
   ],
   "source": [
    "# NJ Period 0\n",
    "# t_set = np.linspace(0, 765, 766)\n",
    "optimzer_mae_nj0 = optimize.minimize(loss_func, \n",
    "                                     np.random.normal(1, 1, size=(time_period[0]//30,)), \n",
    "                                     args=(NJ_data[:time_period[0]], time_period[0], mean_absolute_error, \"NJ\"), \n",
    "                                     method='Nelder-Mead', options={'maxiter':2000, 'disp':True})\n",
    "optimzer_mse_nj0 = optimize.minimize(loss_func, \n",
    "                                     np.random.normal(1, 1, size=(time_period[0]//30,)), \n",
    "                                     args=(NJ_data[:time_period[0]], time_period[0], mean_squared_error, \"NJ\"), \n",
    "                                     method='Nelder-Mead', options={'maxiter':2000, 'disp':True})"
   ]
  },
  {
   "cell_type": "code",
   "execution_count": 16,
   "metadata": {},
   "outputs": [
    {
     "name": "stdout",
     "output_type": "stream",
     "text": [
      "Optimization terminated successfully.\n",
      "         Current function value: 0.002885\n",
      "         Iterations: 1722\n",
      "         Function evaluations: 2465\n",
      "Optimization terminated successfully.\n",
      "         Current function value: 0.000015\n",
      "         Iterations: 1872\n",
      "         Function evaluations: 2648\n"
     ]
    }
   ],
   "source": [
    "# NJ Period 1\n",
    "optimzer_mae_nj1 = optimize.minimize(loss_func, \n",
    "                                     np.random.normal(1, 1, size=(time_period[1]//30,)), \n",
    "                                     args=(NJ_data[time_period[0]:time_period[0] + time_period[1]], time_period[1], mean_absolute_error, \"NJ\"), \n",
    "                                     method='Nelder-Mead', \n",
    "                                     options={'maxiter':2000, 'disp':True})\n",
    "\n",
    "optimzer_mse_nj1 = optimize.minimize(loss_func, \n",
    "                                     np.random.normal(1, 1, size=(time_period[1]//30,)), \n",
    "                                     args=(NJ_data[time_period[0]:time_period[0] + time_period[1]], time_period[1], mean_squared_error, \"NJ\"), \n",
    "                                     method='Nelder-Mead', \n",
    "                                     options={'maxiter':2000, 'disp':True})"
   ]
  },
  {
   "cell_type": "code",
   "execution_count": 17,
   "metadata": {},
   "outputs": [
    {
     "name": "stdout",
     "output_type": "stream",
     "text": [
      "Optimization terminated successfully.\n",
      "         Current function value: 0.006087\n",
      "         Iterations: 802\n",
      "         Function evaluations: 1209\n",
      "Optimization terminated successfully.\n",
      "         Current function value: 0.000077\n",
      "         Iterations: 1527\n",
      "         Function evaluations: 2261\n"
     ]
    }
   ],
   "source": [
    "# NJ Period 2\n",
    "optimzer_mae_nj2 = optimize.minimize(loss_func, \n",
    "                                     np.random.normal(2, 1, size=(time_period[2]//30,)), \n",
    "                                     args=(NJ_data[time_period[1]:time_period[1] + time_period[2]], time_period[2], mean_absolute_error, \"NJ\"), \n",
    "                                     method='Nelder-Mead', \n",
    "                                     options={'maxiter':2000, 'disp':True})\n",
    "\n",
    "optimzer_mse_nj2 = optimize.minimize(loss_func, \n",
    "                                     np.random.normal(2, 1, size=(time_period[2]//30,)), \n",
    "                                     args=(NJ_data[time_period[1]:time_period[1] + time_period[2]], time_period[2], mean_squared_error, \"NJ\"), \n",
    "                                     method='Nelder-Mead', \n",
    "                                     options={'maxiter':2000, 'disp':True})"
   ]
  },
  {
   "cell_type": "code",
   "execution_count": 22,
   "metadata": {},
   "outputs": [],
   "source": [
    "# NJ\n",
    "r0_pred = np.concatenate((np.abs(optimzer_mse_nj0.x), np.abs(optimzer_mse_nj1.x), np.abs(optimzer_mse_nj2.x)))"
   ]
  },
  {
   "cell_type": "code",
   "execution_count": 35,
   "metadata": {},
   "outputs": [
    {
     "data": {
      "text/plain": [
       "array([4.8507628 , 1.34503835, 0.89640546, 0.44503617, 0.02432075,\n",
       "       2.30596986, 0.09843952, 6.20500975, 0.56650836, 1.78614248,\n",
       "       1.03037392, 1.21595422, 1.05691613, 1.6       , 0.57499414,\n",
       "       1.1394036 , 5.45520449, 0.83844018, 1.21848025, 0.81636549,\n",
       "       0.59148035, 0.3553112 , 2.3       , 1.4097475 ])"
      ]
     },
     "execution_count": 35,
     "metadata": {},
     "output_type": "execute_result"
    }
   ],
   "source": [
    "r0_pred\n"
   ]
  },
  {
   "cell_type": "code",
   "execution_count": 34,
   "metadata": {},
   "outputs": [],
   "source": [
    "r0_pred[13] = 1.6\n",
    "r0_pred[22] = 2.3"
   ]
  },
  {
   "cell_type": "code",
   "execution_count": 42,
   "metadata": {},
   "outputs": [
    {
     "name": "stderr",
     "output_type": "stream",
     "text": [
      "C:\\Users\\Claire\\anaconda3\\envs\\decision-analytics\\lib\\site-packages\\ipykernel_launcher.py:62: MatplotlibDeprecationWarning: The 'b' parameter of grid() has been renamed 'visible' since Matplotlib 3.5; support for the old name will be dropped two minor releases later.\n"
     ]
    },
    {
     "data": {
      "image/png": "[encoded data removed]",
      "text/plain": [
       "<Figure size 432x288 with 1 Axes>"
      ]
     },
     "metadata": {},
     "output_type": "display_data"
    }
   ],
   "source": [
    "gamma = 1./14\n",
    "state = \"NJ\"\n",
    "\n",
    "N_dict = {\n",
    "    \"NJ\": 9288994,\n",
    "    \"NY\": 20201249,\n",
    "    \"CA\": 39538223,\n",
    "    \"IL\": 12812508,\n",
    "    \"PA\": 13002700\n",
    "}\n",
    "\n",
    "N = N_dict[state]\n",
    "time_period = [180, 320, 265]\n",
    "\n",
    "I0, R0 = 20, 0\n",
    "S, I, R = np.array([]), np.array([]), np.array([])\n",
    "for i in range(3):\n",
    "    \n",
    "    S0 = N - I0 - R0\n",
    "    y0 = S0, I0, R0\n",
    "\n",
    "    def random_beta(t):\n",
    "        idx = int(t // 30)\n",
    "        idx = time_period[i] // 30 - 1 if idx >= time_period[i] // 30 else idx\n",
    "        idx = 0 if idx < 0  else idx\n",
    "        # return r0_pred[idx] * gamma\n",
    "        return r0_pred[idx] * gamma\n",
    "        # max_idx = len(r0_preds[i]) - 1\n",
    "        # if idx > max_idx:\n",
    "        #     return r0_preds[i][max_idx]\n",
    "        # elif idx < 0:\n",
    "        #     return r0_preds[i][0]\n",
    "        # else:\n",
    "        #     return r0_preds[i][idx]\n",
    "\n",
    "\n",
    "    def deriv_dynamic(y, t, N, beta, gamma):\n",
    "        S, I, R = y\n",
    "        dSdt = - beta(t) * S * I / N\n",
    "        dIdt = beta(t) * S * I / N - gamma * I\n",
    "        dRdt = gamma * I\n",
    "        return dSdt, dIdt, dRdt\n",
    "\n",
    "    ret = odeint(deriv_dynamic, y0, np.linspace(0, time_period[i], time_period[i] + 1), args=(N, random_beta, gamma))\n",
    "    S_period, I_period, R_period = ret.T\n",
    "    S = np.concatenate((S, S_period))\n",
    "    I = np.concatenate((I, I_period))\n",
    "    R = np.concatenate((R, R_period))\n",
    "    # I0, R0 = I[-1], R[-1]\n",
    "\n",
    "\n",
    "fig = plt.figure(facecolor='w')\n",
    "ax = fig.add_subplot(111, facecolor='#dddddd', axisbelow=True)\n",
    "# ax.plot(t_set, S/N_NJ, 'b', alpha=0.5, lw=2, label='Susceptible')\n",
    "ax.plot(range(len(I)), I/N_NJ, 'r', alpha=0.5, lw=2, label='Infected')\n",
    "ax.plot(range(len(I)), R/N_NJ, 'g', alpha=0.5, lw=2, label='Recovered/Removed')\n",
    "ax.set_xlabel('Time /days')\n",
    "ax.set_ylabel('Percentage of Population')\n",
    "ax.set_ylim(0,1)\n",
    "ax.yaxis.set_tick_params(length=0)\n",
    "ax.xaxis.set_tick_params(length=0)\n",
    "ax.grid(b=True, which='major', c='w', lw=2, ls='-')\n",
    "legend = ax.legend()\n",
    "legend.get_frame().set_alpha(0.5)\n",
    "for spine in ('top', 'right', 'bottom', 'left'):\n",
    "    ax.spines[spine].set_visible(False)\n",
    "plt.show()"
   ]
  },
  {
   "cell_type": "code",
   "execution_count": 43,
   "metadata": {},
   "outputs": [
    {
     "data": {
      "image/png": "[encoded data removed]",
      "text/plain": [
       "<Figure size 432x288 with 1 Axes>"
      ]
     },
     "metadata": {
      "needs_background": "light"
     },
     "output_type": "display_data"
    }
   ],
   "source": [
    "fig, ax = plt.subplots()\n",
    "\n",
    "ax.plot(list(range(766)), I[:766]/N_NJ, label=\"I_pred\", alpha=0.5)\n",
    "ax.plot(list(range(766)), NJ_data, label=\"I_true\", alpha=0.5)\n",
    "plt.legend()\n",
    "plt.show()"
   ]
  },
  {
   "cell_type": "code",
   "execution_count": 10,
   "metadata": {},
   "outputs": [
    {
     "data": {
      "image/png": "[encoded data removed]",
      "text/plain": [
       "<Figure size 432x288 with 1 Axes>"
      ]
     },
     "metadata": {
      "needs_background": "light"
     },
     "output_type": "display_data"
    }
   ],
   "source": [
    "fig, ax = plt.subplots()\n",
    "ax.plot(list(range(766)), NJ_data, label=\"NJ_true\", alpha=0.5)\n",
    "ax.plot(list(range(766)), NY_data, label=\"NY_true\", alpha=0.5)\n",
    "ax.plot(list(range(766)), CA_data, label=\"CA_true\", alpha=0.5)\n",
    "ax.plot(list(range(766)), IL_data, label=\"IL_true\", alpha=0.5)\n",
    "ax.plot(list(range(766)), PA_data, label=\"PA_true\", alpha=0.5)\n",
    "plt.legend()\n",
    "plt.show()"
   ]
  },
  {
   "cell_type": "code",
   "execution_count": 106,
   "metadata": {},
   "outputs": [],
   "source": [
    "# ### ------------------- Parameters to Vary ------------------- ###\n",
    "\n",
    "# # lambda: number of people that a susceptible person interacts with per time step\n",
    "# # p: probability of getting infected if a susceptible person interacts with an infectious person\n",
    "# # gamma: recovery rate (recovery probability within one time step)\n",
    "# gamma = 1./14 # set lam = 2 vs 20, p = 0.3, gamma = 1/14\n",
    "\n",
    "# ### ------------------- Fixed Parameters ------------------- ###\n",
    "\n",
    "# # Total population.\n",
    "# N_NJ = 9288994\n",
    "# N_NY = 20201249\n",
    "# N_CA = 39538223\n",
    "# N_IL = 12812508\n",
    "# N_PA = 13002700\n",
    "\n",
    "# # A grid of time points (in days) for the detecting period\n",
    "# t_set = np.linspace(0, 765, 766)\n",
    "\n",
    "# # Initial number of infected and immune individuals, I0 and R0.\n",
    "# I0, R0 = 10, 0\n",
    "\n",
    "# # Everyone else, S0, is susceptible to infection initially.\n",
    "# S0 = N - I0 - R0\n",
    "\n",
    "# # The SIR model differential equations.\n",
    "# def deriv_dynamic(y, t, N, beta, gamma):\n",
    "#     S, I, R = y\n",
    "#     dSdt = -beta(t) * S * I / N\n",
    "#     dIdt = beta(t) * S * I / N - gamma * I\n",
    "#     dRdt = gamma * I\n",
    "#     return dSdt, dIdt, dRdt\n",
    "\n",
    "# x = np.linspace(0, 367, 368)\n",
    "\n",
    "# def random_beta(t):\n",
    "        \n",
    "#     if t < 36:\n",
    "#         return r0_pred[0]\n",
    "#     if 36 <= t < 72:\n",
    "#         return r0_pred[1]\n",
    "#     if 72 <= t < 108:\n",
    "#         return r0_pred[2]\n",
    "#     if 108 <= t < 144:\n",
    "#         return r0_pred[3]\n",
    "#     if 144 <= t < 180:\n",
    "#         return r0_pred[4]\n",
    "#     if 180 <= t < 216:\n",
    "#         return r0_pred[5]\n",
    "#     if 216 <= t < 248:\n",
    "#         return r0_pred[6]\n",
    "#     if 248 <= t < 284:\n",
    "#         return r0_pred[7]\n",
    "#     if 284 <= t < 320:\n",
    "#         return r0_pred[8]\n",
    "#     if t > 320:\n",
    "#         return r0_pred[9]\n",
    "\n",
    "# ### ----------------- Dynamic Parameters ----------------- ###\n",
    "\n",
    "# # Initial conditions vector\n",
    "# y0 = S0, I0, R0\n",
    "# # Integrate the SIR equations over the time grid, t.\n",
    "# ret = odeint(deriv_dynamic, y0, t_set, args=(N, random_beta, gamma))\n",
    "# S_pred, I_pred, R_pred = ret.T\n",
    "\n",
    "# # Plot the data on three separate curves for S(t), I(t) and R(t)\n",
    "# fig = plt.figure(facecolor='w')\n",
    "# ax = fig.add_subplot(111, facecolor='#dddddd', axisbelow=True)\n",
    "# ax.plot(t_set, S_pred/N, 'b', alpha=0.5, lw=2, label='Susceptible')\n",
    "# ax.plot(t_set, I_pred/N, 'r', alpha=0.5, lw=2, label='Infected')\n",
    "# ax.plot(t_set, R_pred/N, 'g', alpha=0.5, lw=2, label='Recovered/Removed')\n",
    "# ax.set_xlabel('Time /days')\n",
    "# ax.set_ylabel('Percentage of Population')\n",
    "# ax.set_ylim(0,1.2)\n",
    "# ax.yaxis.set_tick_params(length=0)\n",
    "# ax.xaxis.set_tick_params(length=0)\n",
    "# ax.grid(b=True, which='major', c='w', lw=2, ls='-')\n",
    "# legend = ax.legend()\n",
    "# legend.get_frame().set_alpha(0.5)\n",
    "# for spine in ('top', 'right', 'bottom', 'left'):\n",
    "#     ax.spines[spine].set_visible(False)\n",
    "# plt.show()"
   ]
  },
  {
   "cell_type": "code",
   "execution_count": 107,
   "metadata": {},
   "outputs": [],
   "source": [
    "# fig, ax = plt.subplots()\n",
    "\n",
    "# ax.plot(list(range(366)), I_pred, label=\"I_pred\", alpha=0.5)\n",
    "# ax.plot(list(range(366)), I_syn, label=\"I_true\", alpha=0.5)\n",
    "# plt.legend()\n",
    "# plt.show()"
   ]
  }
 ],
 "metadata": {
  "interpreter": {
   "hash": "8ab0d968002a578cf1e1aa041721a175249ba338f6da29efa5ef1a380c630376"
  },
  "kernelspec": {
   "display_name": "Python 3.7.11 ('base')",
   "language": "python",
   "name": "python3"
  },
  "language_info": {
   "codemirror_mode": {
    "name": "ipython",
    "version": 3
   },
   "file_extension": ".py",
   "mimetype": "text/x-python",
   "name": "python",
   "nbconvert_exporter": "python",
   "pygments_lexer": "ipython3",
   "version": "3.7.11"
  },
  "orig_nbformat": 4
 },
 "nbformat": 4,
 "nbformat_minor": 2
}
